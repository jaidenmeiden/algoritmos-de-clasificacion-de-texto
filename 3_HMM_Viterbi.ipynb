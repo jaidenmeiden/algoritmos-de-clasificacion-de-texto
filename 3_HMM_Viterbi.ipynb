{
 "cells": [
  {
   "cell_type": "code",
   "execution_count": 4,
   "metadata": {
    "id": "858EOFNBPxDs"
   },
   "outputs": [
    {
     "name": "stdout",
     "output_type": "stream",
     "text": [
      "Requirement already satisfied: conllu in ./venv/lib/python3.7/site-packages (4.2.2)\n",
      "fatal: la ruta de destino 'UD_Spanish-AnCora' ya existe y no es un directorio vacío.\n"
     ]
    }
   ],
   "source": [
    "# instalacion de dependencias previas\n",
    "!pip install conllu\n",
    "!git clone https://github.com/UniversalDependencies/UD_Spanish-AnCora.git"
   ]
  },
  {
   "cell_type": "markdown",
   "metadata": {
    "id": "cAHDLyQQcboh"
   },
   "source": [
    "# Carga del modelo HMM previamente entrenado"
   ]
  },
  {
   "cell_type": "markdown",
   "metadata": {
    "id": "cAHDLyQQcboh"
   },
   "source": [
    "Cargamos las probabilidades del modelo HMM"
   ]
  },
  {
   "cell_type": "code",
   "execution_count": null,
   "metadata": {
    "id": "9jwZedC6RVJy"
   },
   "outputs": [],
   "source": []
  },
  {
   "cell_type": "markdown",
   "metadata": {
    "id": "cAHDLyQQcboh"
   },
   "source": [
    "Identificamos las categorias gramaticales 'upos' unicas en el corpus"
   ]
  },
  {
   "cell_type": "code",
   "execution_count": null,
   "metadata": {
    "colab": {
     "base_uri": "https://localhost:8080/",
     "height": 296
    },
    "id": "Ezi9gcquUw55",
    "outputId": "0b03240b-6688-456b-ecf0-098e1ff6e1a3"
   },
   "outputs": [],
   "source": []
  },
  {
   "cell_type": "markdown",
   "metadata": {
    "id": "cAHDLyQQcboh"
   },
   "source": [
    "Enumeramos las categorias con numeros para asignar a las columnas de la matriz de Viterbi"
   ]
  },
  {
   "cell_type": "code",
   "execution_count": null,
   "metadata": {
    "colab": {
     "base_uri": "https://localhost:8080/",
     "height": 296
    },
    "id": "-aVD0jboWKGh",
    "outputId": "00d32831-8964-4ad6-de81-ffe5ba2d3a46"
   },
   "outputs": [],
   "source": []
  },
  {
   "cell_type": "markdown",
   "metadata": {
    "id": "9SNuWx-ScSTg"
   },
   "source": [
    "# Distribucion inicial de estados latentes\n",
    "\n",
    "Calculamos distribución inicial de estados"
   ]
  },
  {
   "cell_type": "code",
   "execution_count": null,
   "metadata": {
    "colab": {
     "base_uri": "https://localhost:8080/",
     "height": 296
    },
    "id": "put9Dyk1Yl2A",
    "outputId": "102c4102-3a17-48dd-93b2-40c95a96ff04"
   },
   "outputs": [],
   "source": []
  },
  {
   "cell_type": "markdown",
   "metadata": {
    "id": "cAHDLyQQcboh"
   },
   "source": [
    "Verificamos que la suma de las probabilidades es 1 (100%)"
   ]
  },
  {
   "cell_type": "code",
   "execution_count": null,
   "metadata": {
    "colab": {
     "base_uri": "https://localhost:8080/",
     "height": 32
    },
    "id": "J5Rltqj6bbcV",
    "outputId": "2477fc48-e9d1-4548-baf2-e6e218f36b99"
   },
   "outputs": [],
   "source": []
  },
  {
   "cell_type": "markdown",
   "metadata": {
    "id": "YjnAshwzxrKZ"
   },
   "source": [
    "# Construcción del algoritmo de Viterbi\n",
    "\n",
    "\n",
    "\n",
    "\n"
   ]
  },
  {
   "cell_type": "markdown",
   "metadata": {
    "id": "zX-_MnPexnm0"
   },
   "source": [
    "Dada una secuencia de palabras $\\{p_1, p_2, \\dots, p_n \\}$, y un conjunto de categorias gramaticales dadas por la convención `upos`, se considera la matriz de probabilidades de Viterbi así:\n",
    "\n",
    "$$\n",
    "\\begin{array}{c c}\n",
    "\\begin{array}{c c c c}\n",
    "\\text{ADJ} \\\\\n",
    "\\text{ADV}\\\\\n",
    "\\text{PRON} \\\\\n",
    "\\vdots \\\\\n",
    "{}\n",
    "\\end{array} \n",
    "&\n",
    "\\left[\n",
    "\\begin{array}{c c c c}\n",
    "\\nu_1(\\text{ADJ}) & \\nu_2(\\text{ADJ}) & \\dots  & \\nu_n(\\text{ADJ})\\\\\n",
    "\\nu_1(\\text{ADV}) & \\nu_2(\\text{ADV}) & \\dots  & \\nu_n(\\text{ADV})\\\\ \n",
    "\\nu_1(\\text{PRON}) & \\nu_2(\\text{PRON}) & \\dots  & \\nu_n(\\text{PRON})\\\\\n",
    "\\vdots & \\vdots & \\dots & \\vdots \\\\ \\hdashline\n",
    "p_1 & p_2 & \\dots & p_n \n",
    "\\end{array}\n",
    "\\right] \n",
    "\\end{array}\n",
    "$$\n",
    "\n",
    "Donde las probabilidades de la primera columna (para una categoria $i$) están dadas por: \n",
    "\n",
    "$$\n",
    "\\nu_1(i) = \\underbrace{\\rho_i^{(0)}}_{\\text{probabilidad inicial}} \\times \\underbrace{P(p_1 \\vert i)}_{\\text{emisión}}\n",
    "$$\n",
    "\n",
    "luego, para la segunda columna (dada una categoria $j$) serán: \n",
    "\n",
    "$$\n",
    "\\nu_2(j) = \\max_i \\{ \\nu_1(i) \\times \\underbrace{P(j \\vert i)}_{\\text{transición}} \\times \\underbrace{P(p_2 \\vert j)}_{\\text{emisión}} \\}\n",
    "$$\n",
    "\n",
    "así, en general las probabilidades para la columna $t$ estarán dadas por: \n",
    "\n",
    "$$\n",
    "\\nu_{t}(j) = \\max_i \\{ \\overbrace{\\nu_{t-1}(i)}^{\\text{estado anterior}} \\times \\underbrace{P(j \\vert i)}_{\\text{transición}} \\times \\underbrace{P(p_t \\vert j)}_{\\text{emisión}} \\}\n",
    "$$"
   ]
  },
  {
   "cell_type": "code",
   "execution_count": null,
   "metadata": {
    "colab": {
     "base_uri": "https://localhost:8080/",
     "height": 49
    },
    "id": "rAyO788xPKra",
    "outputId": "a470923e-d446-4063-97a7-30e3e962cb18"
   },
   "outputs": [],
   "source": []
  },
  {
   "cell_type": "code",
   "execution_count": null,
   "metadata": {
    "colab": {
     "base_uri": "https://localhost:8080/",
     "height": 296
    },
    "id": "9sJhQ35m5ASB",
    "outputId": "7cc43024-fe2c-4e43-a4d1-95952c3195de"
   },
   "outputs": [],
   "source": []
  },
  {
   "cell_type": "code",
   "execution_count": null,
   "metadata": {
    "colab": {
     "base_uri": "https://localhost:8080/",
     "height": 98
    },
    "id": "J9CYMtNpuoKq",
    "outputId": "92aa7ea5-4aec-424f-efd9-1837d02bdf00"
   },
   "outputs": [],
   "source": []
  },
  {
   "cell_type": "code",
   "execution_count": null,
   "metadata": {
    "colab": {
     "base_uri": "https://localhost:8080/",
     "height": 98
    },
    "id": "FwOk8ABlx13k",
    "outputId": "0dddea10-ed1c-4bc8-f4c7-7cfc16872f7d"
   },
   "outputs": [],
   "source": []
  },
  {
   "cell_type": "markdown",
   "metadata": {
    "id": "BnLT12Qx5D78"
   },
   "source": [
    "# Entrenamiento directo de HMM con NLTK\n",
    "\n",
    "* clase en python (NLTK) de HMM: https://www.nltk.org/_modules/nltk/tag/hmm.html\n",
    "\n",
    "`@title` ejemplo con el Corpus Treebank en ingles"
   ]
  },
  {
   "cell_type": "code",
   "execution_count": null,
   "metadata": {
    "colab": {
     "base_uri": "https://localhost:8080/",
     "height": 49
    },
    "id": "NVyCuawh5Eqj",
    "outputId": "8f2ef078-4a92-44cd-f614-543ccbe3cff6"
   },
   "outputs": [],
   "source": []
  },
  {
   "cell_type": "markdown",
   "metadata": {
    "id": "cAHDLyQQcboh"
   },
   "source": [
    "# Carga del modelo HMM previamente entrenado\n",
    "\n",
    "`@title` estructura de la data de entrenamiento"
   ]
  },
  {
   "cell_type": "code",
   "execution_count": null,
   "metadata": {
    "colab": {
     "base_uri": "https://localhost:8080/",
     "height": 52
    },
    "id": "C_DomEIM5Hif",
    "outputId": "df2a8bd9-2e56-4296-ef9a-c774456ae39e"
   },
   "outputs": [],
   "source": [
    "\n"
   ]
  },
  {
   "cell_type": "markdown",
   "metadata": {
    "id": "cAHDLyQQcboh"
   },
   "source": [
    "`@title` HMM pre-construido en NLTK"
   ]
  },
  {
   "cell_type": "code",
   "execution_count": null,
   "metadata": {
    "colab": {
     "base_uri": "https://localhost:8080/",
     "height": 32
    },
    "id": "WtknnYIi5KdG",
    "outputId": "e4dbaf5e-7934-4d24-ab4e-e406620c648d"
   },
   "outputs": [],
   "source": []
  },
  {
   "cell_type": "code",
   "execution_count": null,
   "metadata": {
    "colab": {
     "base_uri": "https://localhost:8080/",
     "height": 98
    },
    "id": "tLG-QzKc5OM4",
    "outputId": "c05f89f9-1894-4116-93b2-f2b7d4cf96a3"
   },
   "outputs": [],
   "source": []
  },
  {
   "cell_type": "markdown",
   "metadata": {
    "id": "cAHDLyQQcboh"
   },
   "source": [
    "`@title` training accuracy"
   ]
  },
  {
   "cell_type": "code",
   "execution_count": null,
   "metadata": {
    "colab": {
     "base_uri": "https://localhost:8080/",
     "height": 32
    },
    "id": "aGLYRUBb5Wni",
    "outputId": "2ed13ca6-f699-4602-a94f-ef2753f8e461"
   },
   "outputs": [],
   "source": []
  },
  {
   "cell_type": "markdown",
   "metadata": {
    "id": "FN-Bgfk-pI0m"
   },
   "source": [
    "## Ejercicio de práctica\n",
    "\n",
    "**Objetivo:** Entrena un HMM usando la clase `hmm.HiddenMarkovModelTrainer()` sobre el dataset `UD_Spanish_AnCora`."
   ]
  },
  {
   "cell_type": "markdown",
   "metadata": {
    "id": "ZrtTL4ihxfiq"
   },
   "source": [
    "1. **Pre-procesamiento:** En el ejemplo anterior usamos el dataset en ingles `treebank`, el cual viene con una estructura diferente a la de `AnCora`, en esta parte escribe código para transformar la estructura de `AnCora` de manera que quede igual al `treebank` que usamos así:\n",
    "\n",
    "$$\\left[ \\left[ (\\text{'El'}, \\text{'DET'}), (\\dots), \\dots\\right], \\left[\\dots \\right] \\right]$$"
   ]
  },
  {
   "cell_type": "code",
   "execution_count": 5,
   "metadata": {
    "id": "1X8qg5Fc5ahS"
   },
   "outputs": [],
   "source": [
    "# desarrolla tu código aquí \n"
   ]
  },
  {
   "cell_type": "markdown",
   "metadata": {
    "id": "W_OYeCVQrZAK"
   },
   "source": [
    "2. **Entrenamiento:** Una vez que el dataset esta con la estructura correcta, utiliza la clase `hmm.HiddenMarkovModelTrainer()` para entrenar con el $80 \\%$ del dataset como conjunto de `entrenamiento` y $20 \\%$ para el conjunto de `test`.\n",
    "\n",
    "**Ayuda:** Para la separacion entre conjuntos de entrenamiento y test, puedes usar la funcion de Scikit Learn: \n",
    "\n",
    "https://scikit-learn.org/stable/modules/generated/sklearn.model_selection.train_test_split.html\n",
    "\n",
    "En este punto el curso de Machine Learning con Scikit Learn es un buen complemento para entender mejor las funcionalidades de Scikit Learn: https://platzi.com/cursos/scikitlearn-ml/ "
   ]
  },
  {
   "cell_type": "code",
   "execution_count": 6,
   "metadata": {
    "id": "DZpAIB87sTqL"
   },
   "outputs": [],
   "source": [
    "# desarrolla tu código aquí\n"
   ]
  },
  {
   "cell_type": "markdown",
   "metadata": {
    "id": "LLS54wqsu9OK"
   },
   "source": [
    "3. **Validación del modelo:** Un vez entrenado el `tagger`, calcula el rendimiento del modelo (usando `tagger.evaluate()`) para los conjuntos de `entrenamiento` y `test`.\n",
    "\n"
   ]
  },
  {
   "cell_type": "code",
   "execution_count": 7,
   "metadata": {
    "id": "JEwZIG8Du98v"
   },
   "outputs": [],
   "source": [
    "#desarrolla tu código aquí\n"
   ]
  }
 ],
 "metadata": {
  "colab": {
   "collapsed_sections": [
    "cAHDLyQQcboh",
    "9SNuWx-ScSTg",
    "YjnAshwzxrKZ",
    "BnLT12Qx5D78"
   ],
   "name": "[Lectura_11/12/13]HMM_Viterbi.ipynb",
   "provenance": []
  },
  "kernelspec": {
   "display_name": "Python 3",
   "language": "python",
   "name": "python3"
  },
  "language_info": {
   "codemirror_mode": {
    "name": "ipython",
    "version": 3
   },
   "file_extension": ".py",
   "mimetype": "text/x-python",
   "name": "python",
   "nbconvert_exporter": "python",
   "pygments_lexer": "ipython3",
   "version": "3.7.2"
  }
 },
 "nbformat": 4,
 "nbformat_minor": 1
}
