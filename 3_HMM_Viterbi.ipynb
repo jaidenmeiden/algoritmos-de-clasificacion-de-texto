{
 "cells": [
  {
   "cell_type": "code",
   "execution_count": null,
   "metadata": {
    "colab": {
     "base_uri": "https://localhost:8080/"
    },
    "id": "858EOFNBPxDs",
    "outputId": "1696d423-6d89-4113-fb3a-97197594472d"
   },
   "outputs": [],
   "source": [
    "# instalacion de dependencias previas\n",
    "!pip install conllu\n",
    "!git clone https://github.com/UniversalDependencies/UD_Spanish-AnCora.git"
   ]
  },
  {
   "cell_type": "markdown",
   "metadata": {
    "id": "cAHDLyQQcboh",
    "pycharm": {
     "name": "#%% md\n"
    }
   },
   "source": [
    "# Carga del modelo HMM previamente entrenado"
   ]
  },
  {
   "cell_type": "markdown",
   "metadata": {
    "id": "6MdHlDNzFIVu"
   },
   "source": [
    "Cargamos las probabilidades del modelo HMM"
   ]
  },
  {
   "cell_type": "code",
   "execution_count": null,
   "metadata": {
    "id": "9jwZedC6RVJy",
    "pycharm": {
     "name": "#%%\n"
    }
   },
   "outputs": [],
   "source": [
    "transitionProbdict = np.load('transitionHMM.npy', allow_pickle='TRUE').item()\n",
    "emissionProbdict = np.load('emissionHMM.npy', allow_pickle='TRUE').item()"
   ]
  },
  {
   "cell_type": "markdown",
   "metadata": {
    "id": "a3t6s88qFIVv",
    "pycharm": {
     "name": "#%% md\n"
    }
   },
   "source": [
    "Identificamos las categorias gramaticales 'upos' unicas en el corpus.\n",
    "\n",
    "Obtenemos las llaves de la colección de probabilidades de emisión con `emissionProbdict.keys()` y creamos un bucle recorriendo la lista de llaves `[k for k in emissionProbdict.keys()` y de cada llave obtenida captuarmos unicamente la categoría gramatical `k.split('|')[1]` en la segunda posición de la llave. Para que no nos muestre categorías repetidas aplicamos la función `set()`, donde nos debe mostrar **17 registros** según la convención internacional."
   ]
  },
  {
   "cell_type": "code",
   "execution_count": null,
   "metadata": {
    "colab": {
     "base_uri": "https://localhost:8080/"
    },
    "id": "Ezi9gcquUw55",
    "outputId": "929a0795-6301-4368-82eb-4510f1bf1278",
    "pycharm": {
     "name": "#%%\n"
    }
   },
   "outputs": [],
   "source": [
    "stateSet = set([k.split('|')[1] for k in emissionProbdict.keys()])\n",
    "stateSet"
   ]
  },
  {
   "cell_type": "markdown",
   "metadata": {
    "id": "EiZD-YJQFIVw",
    "pycharm": {
     "name": "#%% md\n"
    }
   },
   "source": [
    "Enumeramos las categorias con números para asignar a las columnas (Asignamos un número entero) de la matriz de Viterbi."
   ]
  },
  {
   "cell_type": "code",
   "execution_count": null,
   "metadata": {
    "colab": {
     "base_uri": "https://localhost:8080/"
    },
    "id": "-aVD0jboWKGh",
    "outputId": "3464a3ab-7d64-499e-f783-834d9dc42d96",
    "pycharm": {
     "name": "#%%\n"
    }
   },
   "outputs": [],
   "source": [
    "tagStateDict = {}\n",
    "for i, state in enumerate(sorted(stateSet)):\n",
    "    tagStateDict[state] = i\n",
    "tagStateDict"
   ]
  },
  {
   "cell_type": "markdown",
   "metadata": {
    "id": "9SNuWx-ScSTg",
    "pycharm": {
     "name": "#%% md\n"
    }
   },
   "source": [
    "# Distribucion inicial de estados latentes\n",
    "\n",
    "Calculamos distribución inicial de estados"
   ]
  },
  {
   "cell_type": "code",
   "execution_count": null,
   "metadata": {
    "id": "put9Dyk1Yl2A",
    "pycharm": {
     "name": "#%%\n"
    }
   },
   "outputs": [],
   "source": [
    "import numpy as np\n",
    "from conllu import parse_incr \n",
    "data_file = open(\"UD_Spanish-AnCora/es_ancora-ud-dev.conllu\", \"r\", encoding=\"utf-8\")"
   ]
  },
  {
   "cell_type": "markdown",
   "metadata": {
    "id": "5hvTawpLFIVx",
    "pycharm": {
     "name": "#%% md\n"
    }
   },
   "source": [
    "En `initTagStateProb` (Guarda los `\\rho_i^{(0)}`, que son los **rhos** del estado **i** en el momento **0**) es donde guardamos la probabilidad de que encuentre una categoría gramatical al principio de una frase en el corpus."
   ]
  },
  {
   "cell_type": "code",
   "execution_count": null,
   "metadata": {
    "colab": {
     "base_uri": "https://localhost:8080/"
    },
    "id": "JlV15fZkFIVx",
    "outputId": "e1e2336c-a01c-4c44-872c-ebc4cecf0d52",
    "pycharm": {
     "name": "#%%\n"
    }
   },
   "outputs": [],
   "source": [
    "initTagStateProb = {} # \\rho_i^{(0)}\n",
    "count = 0 # cuenta la longitud del corpus\n",
    "for tokenlist in parse_incr(data_file):\n",
    "    count += 1\n",
    "    tag = tokenlist[0]['upos']\n",
    "    if tag in initTagStateProb.keys():\n",
    "        initTagStateProb[tag] += 1\n",
    "    else:\n",
    "        initTagStateProb[tag] = 1\n",
    "\n",
    "for key in initTagStateProb.keys():\n",
    "    initTagStateProb[key] /= count\n",
    "\n",
    "initTagStateProb"
   ]
  },
  {
   "cell_type": "markdown",
   "metadata": {
    "id": "nzwsgP5pFIVy",
    "pycharm": {
     "name": "#%% md\n"
    }
   },
   "source": [
    "Verificamos que la suma de las probabilidades es 1 (100%)\n",
    "\n",
    "En la forma **NO** elegante, sumamos los valores de la colección creando un blucle con el que recorremos la colleción por sus llaves creando una lista con todas las probabilidades, la cual convertimos a un arreglo de `numpy` para aplicar la función `sum()`"
   ]
  },
  {
   "cell_type": "code",
   "execution_count": null,
   "metadata": {
    "colab": {
     "base_uri": "https://localhost:8080/"
    },
    "id": "J5Rltqj6bbcV",
    "outputId": "8963cc4e-a46f-4dad-c930-09300148efd1",
    "pycharm": {
     "name": "#%%\n"
    }
   },
   "outputs": [],
   "source": [
    "np.array([initTagStateProb[k] for k in initTagStateProb.keys()]).sum()"
   ]
  },
  {
   "cell_type": "markdown",
   "metadata": {
    "id": "wrOfMQ79FIVy",
    "pycharm": {
     "name": "#%% md\n"
    }
   },
   "source": [
    "En una forma más simple y eficiente, sumamos los valores de la colección accediendo directemante a la lista de valores de la colección con `list(initTagStateProb.values())`."
   ]
  },
  {
   "cell_type": "code",
   "execution_count": null,
   "metadata": {
    "colab": {
     "base_uri": "https://localhost:8080/"
    },
    "id": "3w5x8mUiFIVy",
    "outputId": "e4d7ce6e-e407-45bd-effd-c047e57cee19",
    "pycharm": {
     "name": "#%%\n"
    }
   },
   "outputs": [],
   "source": [
    "np.array(list(initTagStateProb.values())).sum()"
   ]
  },
  {
   "cell_type": "markdown",
   "metadata": {
    "id": "wdqSPfW2FIVy",
    "pycharm": {
     "name": "#%% md\n"
    }
   },
   "source": [
    "En la forma muy eficiente, simplemente sumamos la lista de valores, sin utilizar `numpy`."
   ]
  },
  {
   "cell_type": "code",
   "execution_count": null,
   "metadata": {
    "colab": {
     "base_uri": "https://localhost:8080/"
    },
    "id": "9ChN6W0lFIVz",
    "outputId": "15baadab-2c4a-4373-bd6c-54599de0766a",
    "pycharm": {
     "name": "#%%\n"
    }
   },
   "outputs": [],
   "source": [
    "sum(initTagStateProb.values())"
   ]
  },
  {
   "cell_type": "markdown",
   "metadata": {
    "id": "YjnAshwzxrKZ",
    "pycharm": {
     "name": "#%% md\n"
    }
   },
   "source": [
    "# Construcción del algoritmo de Viterbi\n",
    "\n",
    "\n",
    "\n",
    "\n"
   ]
  },
  {
   "cell_type": "markdown",
   "metadata": {
    "id": "zX-_MnPexnm0"
   },
   "source": [
    "Dada una secuencia de palabras $\\{p_1, p_2, \\dots, p_n \\}$, y un conjunto de categorias gramaticales dadas por la convención `upos`, se considera la matriz de probabilidades de Viterbi así:\n",
    "\n",
    "$$\n",
    "\\begin{array}{c c}\n",
    "\\begin{array}{c c c c}\n",
    "\\text{ADJ} \\\\\n",
    "\\text{ADV}\\\\\n",
    "\\text{PRON} \\\\\n",
    "\\vdots \\\\\n",
    "{}\n",
    "\\end{array} \n",
    "&\n",
    "\\left[\n",
    "\\begin{array}{c c c c}\n",
    "\\nu_1(\\text{ADJ}) & \\nu_2(\\text{ADJ}) & \\dots  & \\nu_n(\\text{ADJ})\\\\\n",
    "\\nu_1(\\text{ADV}) & \\nu_2(\\text{ADV}) & \\dots  & \\nu_n(\\text{ADV})\\\\ \n",
    "\\nu_1(\\text{PRON}) & \\nu_2(\\text{PRON}) & \\dots  & \\nu_n(\\text{PRON})\\\\\n",
    "\\vdots & \\vdots & \\dots & \\vdots \\\\ \\hdashline\n",
    "p_1 & p_2 & \\dots & p_n \n",
    "\\end{array}\n",
    "\\right] \n",
    "\\end{array}\n",
    "$$\n",
    "\n",
    "Donde las probabilidades de la primera columna (para una categoria $i$) están dadas por: \n",
    "\n",
    "$$\n",
    "\\nu_1(i) = \\underbrace{\\rho_i^{(0)}}_{\\text{probabilidad inicial}} \\times \\underbrace{P(p_1 \\vert i)}_{\\text{emisión}}\n",
    "$$\n",
    "\n",
    "luego, para la segunda columna (dada una categoria $j$) serán: \n",
    "\n",
    "$$\n",
    "\\nu_2(j) = \\max_i \\{ \\nu_1(i) \\times \\underbrace{P(j \\vert i)}_{\\text{transición}} \\times \\underbrace{P(p_2 \\vert j)}_{\\text{emisión}} \\}\n",
    "$$\n",
    "\n",
    "así, en general las probabilidades para la columna $t$ estarán dadas por: \n",
    "\n",
    "$$\n",
    "\\nu_{t}(j) = \\max_i \\{ \\overbrace{\\nu_{t-1}(i)}^{\\text{estado anterior}} \\times \\underbrace{P(j \\vert i)}_{\\text{transición}} \\times \\underbrace{P(p_t \\vert j)}_{\\text{emisión}} \\}\n",
    "$$\n",
    "\n",
    "### Debemos importar la librería NLTK, ya que debemos tokenizar"
   ]
  },
  {
   "cell_type": "code",
   "execution_count": null,
   "metadata": {
    "colab": {
     "base_uri": "https://localhost:8080/"
    },
    "id": "rAyO788xPKra",
    "outputId": "16fdcb5c-0406-484d-abbf-798c89fea563",
    "pycharm": {
     "name": "#%%\n"
    }
   },
   "outputs": [],
   "source": [
    "import nltk\n",
    "nltk.download('punkt') # cargamos el paquete 'punkt' de NLTK\n",
    "from nltk import word_tokenize # importamos el tokenizador de palabras"
   ]
  },
  {
   "cell_type": "markdown",
   "metadata": {
    "id": "7ayCFvpZFIV0",
    "pycharm": {
     "name": "#%% md\n"
    }
   },
   "source": [
    "Construimos la función `ViterbiMatrix` a la cual le pasamos la secuencia de palabras (Este `string` lo tenemos que tokenizar), la matriz de transición `A`, las probabilidades de emisión `B`, el diccionario de categorias con números para asignar a las columnas `tagStateDict` y la probabilidad de que encuentre una categoría gramatical al principio de una frase en el corpus `initTagStateProb`."
   ]
  },
  {
   "cell_type": "code",
   "execution_count": null,
   "metadata": {
    "colab": {
     "base_uri": "https://localhost:8080/"
    },
    "id": "9sJhQ35m5ASB",
    "outputId": "eee941f0-c458-4792-e0b0-7456ad4c439e",
    "pycharm": {
     "name": "#%%\n"
    }
   },
   "outputs": [],
   "source": [
    "# (secuencia, A, B, tagStateDict, initTagStateProb)\n",
    "# Eacribimos la función con valores predeterminados, pero podrian enviarse otras matrices\n",
    "def ViterbiTags(secuencia, \n",
    "                transitionProbdict=transitionProbdict, \n",
    "                emissionProbdict=emissionProbdict, \n",
    "                tagStateDict=tagStateDict, \n",
    "                initTagStateProb=initTagStateProb):\n",
    "    \n",
    "    # Tokenizamos la secuencia     \n",
    "    seq = word_tokenize(secuencia)\n",
    "    # Inicializamos la matrix de Viterbi, la cual inicia en cero\n",
    "    viterbiProb = np.zeros((17, len(seq)))  # upos tiene 17 categorias\n",
    "    \n",
    "    # inicialización primera columna\n",
    "    for tag in tagStateDict.keys():\n",
    "        tag_row = tagStateDict[tag]\n",
    "        word_tag = seq[0].lower() + '|' + tag\n",
    "        if word_tag in emissionProbdict.keys():\n",
    "            viterbiProb[tag_row, 0] = initTagStateProb[tag] * emissionProbdict[word_tag]\n",
    "            \n",
    "    for col in range(1, len(seq)):\n",
    "        for tag_actual in tagStateDict.keys():\n",
    "            tag_row = tagStateDict[tag_actual]\n",
    "            word_tag = seq[col].lower() + '|' + tag_actual\n",
    "            if word_tag in emissionProbdict.keys():\n",
    "                possible_probs = []\n",
    "                for tag_prev in tagStateDict.keys():\n",
    "                    tag_prev_row = tagStateDict[tag_prev]\n",
    "                    tag_prev_tag = tag_actual + '|' + tag_prev\n",
    "                    if tag_prev_tag in transitionProbdict.keys():\n",
    "                        if viterbiProb[tag_prev_row, col-1] > 0:\n",
    "                            possible_probs.append(\n",
    "                                viterbiProb[tag_prev_row, col-1] * transitionProbdict[tag_prev_tag] * emissionProbdict[word_tag])\n",
    "                viterbiProb[tag_row, col] = max(possible_probs)\n",
    "    \n",
    "    # contruccion de secuencia de tags\n",
    "    etiquetas = []\n",
    "    for i, p in enumerate(seq):\n",
    "        for tag in tagStateDict.keys():\n",
    "            # Buscamos en que fila esta la máxima probabilidad de todas las posibles filas\n",
    "            if tagStateDict[tag] == np.argmax(viterbiProb[:, i]):\n",
    "                #print(tagStateDict[tag], np.argmax(viterbiProb[:, i]))\n",
    "                etiquetas.append((p, tag))\n",
    "                \n",
    "    return etiquetas\n",
    "\n",
    "ViterbiTags('el mundo es pequeño')"
   ]
  },
  {
   "cell_type": "code",
   "execution_count": null,
   "metadata": {
    "colab": {
     "base_uri": "https://localhost:8080/"
    },
    "id": "J9CYMtNpuoKq",
    "outputId": "0c2d651e-a8a5-411e-d80c-1cf9da509eda"
   },
   "outputs": [],
   "source": [
    "ViterbiTags('estos instrumentos han de rasgar')"
   ]
  },
  {
   "cell_type": "markdown",
   "metadata": {
    "id": "BnLT12Qx5D78",
    "pycharm": {
     "name": "#%% md\n"
    }
   },
   "source": [
    "# Entrenamiento directo de HMM con NLTK\n",
    "\n",
    "* clase en python (NLTK) de HMM: https://www.nltk.org/_modules/nltk/tag/hmm.html\n",
    "\n",
    "Ejemplo con el Corpus Treebank en ingles"
   ]
  },
  {
   "cell_type": "code",
   "execution_count": null,
   "metadata": {
    "colab": {
     "base_uri": "https://localhost:8080/"
    },
    "id": "NVyCuawh5Eqj",
    "outputId": "e8e7a81c-eed1-40c4-fe56-89e947bc8600",
    "pycharm": {
     "name": "#%%\n"
    }
   },
   "outputs": [],
   "source": [
    "#Hacemos el ejemplo con un corpus en ingles, Dataset 'treebank'\n",
    "import nltk\n",
    "nltk.download('treebank')\n",
    "from nltk.corpus import treebank\n",
    "#Como el Dataset ya esta equiquetado tomamos todas las frases\n",
    "#Esconjemos un parte del Dataset para el entrenamiento\n",
    "train_data = treebank.tagged_sents()[:3900]"
   ]
  },
  {
   "cell_type": "markdown",
   "metadata": {
    "id": "WQIR_2mcFIV5",
    "pycharm": {
     "name": "#%% md\n"
    }
   },
   "source": [
    "# Carga del modelo HMM previamente entrenado\n",
    "\n",
    "Estructura de la data de entrenamiento. Tener presente que la convención es diferente de la UPOS, ya que el Dataset es antiguo y por ende tiene otra convención. El algoritmo funciona con cualquier convención."
   ]
  },
  {
   "cell_type": "code",
   "execution_count": null,
   "metadata": {
    "colab": {
     "base_uri": "https://localhost:8080/"
    },
    "id": "C_DomEIM5Hif",
    "outputId": "ca760ab2-ab48-4bf5-9726-1be4b0e6d599",
    "pycharm": {
     "name": "#%%\n"
    }
   },
   "outputs": [],
   "source": [
    "train_data"
   ]
  },
  {
   "cell_type": "markdown",
   "metadata": {
    "id": "AkOr6ZIrFIV6",
    "pycharm": {
     "name": "#%% md\n"
    }
   },
   "source": [
    "HMM pre-construido en NLTK"
   ]
  },
  {
   "cell_type": "code",
   "execution_count": null,
   "metadata": {
    "colab": {
     "base_uri": "https://localhost:8080/"
    },
    "id": "WtknnYIi5KdG",
    "outputId": "3744a239-eea1-4a26-9269-cbc2cd39cb87",
    "pycharm": {
     "name": "#%%\n"
    }
   },
   "outputs": [],
   "source": [
    "from nltk.tag import hmm\n",
    "tagger = hmm.HiddenMarkovModelTrainer().train_supervised(train_data)\n",
    "tagger"
   ]
  },
  {
   "cell_type": "code",
   "execution_count": null,
   "metadata": {
    "colab": {
     "base_uri": "https://localhost:8080/"
    },
    "id": "tLG-QzKc5OM4",
    "outputId": "5bd14d57-ebe6-4e1a-f8c3-7f86630ebe09"
   },
   "outputs": [],
   "source": [
    "tagger.tag(\"Pierre Vinken will get old\".split())"
   ]
  },
  {
   "cell_type": "markdown",
   "metadata": {
    "id": "6TUWhUrKFIV7",
    "pycharm": {
     "name": "#%% md\n"
    }
   },
   "source": [
    "Training accuracy"
   ]
  },
  {
   "cell_type": "code",
   "execution_count": null,
   "metadata": {
    "colab": {
     "base_uri": "https://localhost:8080/"
    },
    "id": "aGLYRUBb5Wni",
    "outputId": "61242627-b6e7-4f13-c73e-8506b4ef8095",
    "pycharm": {
     "name": "#%%\n"
    }
   },
   "outputs": [],
   "source": [
    "tagger.evaluate(treebank.tagged_sents()[:3900])"
   ]
  },
  {
   "cell_type": "markdown",
   "metadata": {
    "id": "FN-Bgfk-pI0m",
    "pycharm": {
     "name": "#%% md\n"
    }
   },
   "source": [
    "## Ejercicio de práctica\n",
    "\n",
    "**Objetivo:** Entrena un HMM usando la clase `hmm.HiddenMarkovModelTrainer()` sobre el dataset `UD_Spanish_AnCora`."
   ]
  },
  {
   "cell_type": "markdown",
   "metadata": {
    "id": "ZrtTL4ihxfiq"
   },
   "source": [
    "1. **Pre-procesamiento:** En el ejemplo anterior usamos el dataset en ingles `treebank`, el cual viene con una estructura diferente a la de `AnCora`, en esta parte escribe código para transformar la estructura de `AnCora` de manera que quede igual al `treebank` que usamos así:\n",
    "\n",
    "$$\\left[ \\left[ (\\text{'El'}, \\text{'DET'}), (\\dots), \\dots\\right], \\left[\\dots \\right] \\right]$$"
   ]
  },
  {
   "cell_type": "code",
   "execution_count": null,
   "metadata": {
    "id": "1X8qg5Fc5ahS",
    "pycharm": {
     "name": "#%%\n"
    }
   },
   "outputs": [],
   "source": [
    "data_file = open(\"UD_Spanish-AnCora/es_ancora-ud-dev.conllu\", \"r\", encoding=\"utf-8\")       "
   ]
  },
  {
   "cell_type": "code",
   "execution_count": null,
   "metadata": {
    "id": "T9gYnnSBFIV-"
   },
   "outputs": [],
   "source": [
    "estructura = []\n",
    "for tokenlist in parse_incr(data_file):\n",
    "    lista = []\n",
    "    for token in tokenlist:\n",
    "        lista.append((token['form'].lower(), token['upos']))\n",
    "    estructura.append(lista)"
   ]
  },
  {
   "cell_type": "markdown",
   "metadata": {
    "id": "W_OYeCVQrZAK",
    "pycharm": {
     "name": "#%% md\n"
    }
   },
   "source": [
    "2. **Entrenamiento:** Una vez que el dataset esta con la estructura correcta, utiliza la clase `hmm.HiddenMarkovModelTrainer()` para entrenar con el $80 \\%$ del dataset como conjunto de `entrenamiento` y $20 \\%$ para el conjunto de `test`.\n",
    "\n",
    "**Ayuda:** Para la separacion entre conjuntos de entrenamiento y test, puedes usar la funcion de Scikit Learn: \n",
    "\n",
    "https://scikit-learn.org/stable/modules/generated/sklearn.model_selection.train_test_split.html"
   ]
  },
  {
   "cell_type": "code",
   "execution_count": null,
   "metadata": {
    "id": "OKKoS91kFIV-",
    "pycharm": {
     "name": "#%%\n"
    }
   },
   "outputs": [],
   "source": [
    "from sklearn.model_selection import train_test_split\n",
    "estructura_train, estructura_test = train_test_split(estructura, test_size=0.20, random_state=42)"
   ]
  },
  {
   "cell_type": "code",
   "execution_count": null,
   "metadata": {
    "colab": {
     "base_uri": "https://localhost:8080/"
    },
    "id": "DZpAIB87sTqL",
    "outputId": "fd412c0c-b016-444f-ceb5-77ef0ddc7b59"
   },
   "outputs": [],
   "source": [
    "tagger = hmm.HiddenMarkovModelTrainer().train_supervised(estructura_train)\n",
    "tagger"
   ]
  },
  {
   "cell_type": "markdown",
   "metadata": {
    "id": "LLS54wqsu9OK",
    "pycharm": {
     "name": "#%% md\n"
    }
   },
   "source": [
    "3. **Validación del modelo:** Un vez entrenado el `tagger`, calcula el rendimiento del modelo (usando `tagger.evaluate()`) para los conjuntos de `entrenamiento` y `test`.\n",
    "\n"
   ]
  },
  {
   "cell_type": "code",
   "execution_count": null,
   "metadata": {
    "colab": {
     "base_uri": "https://localhost:8080/"
    },
    "id": "JEwZIG8Du98v",
    "outputId": "ac87e25a-5aac-4fe9-c5fc-eb4d0aab8eaa",
    "pycharm": {
     "name": "#%%\n"
    }
   },
   "outputs": [],
   "source": [
    "tagger.tag(\"El mundo es pequeño y estos instrumentos han de rasgar el universo\".split())"
   ]
  },
  {
   "cell_type": "code",
   "execution_count": 50,
   "metadata": {
    "colab": {
     "base_uri": "https://localhost:8080/"
    },
    "id": "S9-PO2m-HiaO",
    "outputId": "31537dfb-02d7-4b31-eb75-d3dff499a085"
   },
   "outputs": [
    {
     "data": {
      "text/plain": [
       "0.9749211094502575"
      ]
     },
     "execution_count": 50,
     "metadata": {
      "tags": []
     },
     "output_type": "execute_result"
    }
   ],
   "source": [
    "tagger.evaluate(estructura_test)"
   ]
  }
 ],
 "metadata": {
  "colab": {
   "collapsed_sections": [
    "cAHDLyQQcboh",
    "9SNuWx-ScSTg",
    "YjnAshwzxrKZ",
    "BnLT12Qx5D78"
   ],
   "name": "3_HMM_Viterbi.ipynb",
   "provenance": []
  },
  "kernelspec": {
   "display_name": "Python 3",
   "language": "python",
   "name": "python3"
  },
  "language_info": {
   "codemirror_mode": {
    "name": "ipython",
    "version": 3
   },
   "file_extension": ".py",
   "mimetype": "text/x-python",
   "name": "python",
   "nbconvert_exporter": "python",
   "pygments_lexer": "ipython3",
   "version": "3.7.2"
  }
 },
 "nbformat": 4,
 "nbformat_minor": 1
}