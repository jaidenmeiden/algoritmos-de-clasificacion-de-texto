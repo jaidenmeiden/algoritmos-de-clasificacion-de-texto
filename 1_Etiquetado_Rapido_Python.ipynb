{
 "cells": [
  {
   "cell_type": "markdown",
   "metadata": {
    "id": "Bu9C9XvfOl_J"
   },
   "source": [
    "# Etiquetado en NLTK"
   ]
  },
  {
   "cell_type": "markdown",
   "metadata": {
    "id": "5AlvswJiYTdj"
   },
   "source": [
    "## Pipeline básico para Ingles"
   ]
  },
  {
   "cell_type": "code",
   "execution_count": null,
   "metadata": {
    "colab": {
     "base_uri": "https://localhost:8080/",
     "height": 98
    },
    "id": "Tmb2Cr7v92E7",
    "outputId": "dce89768-7703-4de9-faef-851b9fe7f700"
   },
   "outputs": [],
   "source": [
    "#@title Dependencias previas\n",
    "import nltk\n",
    "nltk.download('punkt')\n",
    "nltk.download('averaged_perceptron_tagger')\n",
    "from nltk import word_tokenize"
   ]
  },
  {
   "cell_type": "code",
   "execution_count": null,
   "metadata": {
    "colab": {
     "base_uri": "https://localhost:8080/",
     "height": 131
    },
    "id": "8lefQX__OtfL",
    "outputId": "366cab1c-6f49-40cc-da9c-2c1efbe2baf4"
   },
   "outputs": [],
   "source": [
    "#@title Etiquetado en una línea ...\n"
   ]
  },
  {
   "cell_type": "code",
   "execution_count": null,
   "metadata": {
    "colab": {
     "base_uri": "https://localhost:8080/",
     "height": 510
    },
    "id": "qocvMilXPdXs",
    "outputId": "0c14c16e-259a-485d-d440-bc99e727d66e"
   },
   "outputs": [],
   "source": [
    "#@title Categoria gramatical de cada etiqueta\n"
   ]
  },
  {
   "cell_type": "code",
   "execution_count": null,
   "metadata": {
    "colab": {
     "base_uri": "https://localhost:8080/",
     "height": 181
    },
    "id": "MEo2MWrkPqrO",
    "outputId": "3a57539a-8a0f-4476-e722-c65014e43926"
   },
   "outputs": [],
   "source": [
    "#@title Palabras homónimas\n"
   ]
  },
  {
   "cell_type": "markdown",
   "metadata": {
    "id": "EIIi46WzYZvc"
   },
   "source": [
    "## Etiquetado en Español \n",
    "\n",
    "Para el ingles, NLTK tiene tokenizador y etiquetador pre-entrenados por defecto. En cambio, para otros idiomas es preciso entrenarlo previamente. \n",
    "\n",
    "* usamos el corpus `cess_esp` https://mailman.uib.no/public/corpora/2007-October/005448.html\n",
    "\n",
    "* el cual usa una convención de etiquetas gramaticales dada por el grupo EAGLES https://www.cs.upc.edu/~nlp/tools/parole-sp.html"
   ]
  },
  {
   "cell_type": "code",
   "execution_count": null,
   "metadata": {
    "colab": {
     "base_uri": "https://localhost:8080/",
     "height": 49
    },
    "id": "1uLX4KgDX-cs",
    "outputId": "37b51208-4c6c-4ca7-a969-c67a9ac040c0"
   },
   "outputs": [],
   "source": [
    "nltk.download('cess_esp')\n",
    "from nltk.corpus import cess_esp as cess\n",
    "from nltk import UnigramTagger as ut\n",
    "from nltk import BigramTagger as bt"
   ]
  },
  {
   "cell_type": "code",
   "execution_count": null,
   "metadata": {
    "colab": {
     "base_uri": "https://localhost:8080/",
     "height": 32
    },
    "id": "mFi7BLojYw-F",
    "outputId": "35b1c62f-46fe-4f5d-f8b9-2ee0525e7083"
   },
   "outputs": [],
   "source": [
    "#@title Entrenamiendo del tagger por unigramas\n"
   ]
  },
  {
   "cell_type": "code",
   "execution_count": null,
   "metadata": {
    "colab": {
     "base_uri": "https://localhost:8080/",
     "height": 115
    },
    "id": "HHA32_xVg81K",
    "outputId": "55a64d99-9465-4337-f6ee-42bafd25cb84"
   },
   "outputs": [],
   "source": []
  },
  {
   "cell_type": "code",
   "execution_count": null,
   "metadata": {
    "colab": {
     "base_uri": "https://localhost:8080/",
     "height": 32
    },
    "id": "kDIt1k1ubB9D",
    "outputId": "cffe9d86-fd47-4c4a-d57f-69702843f307"
   },
   "outputs": [],
   "source": [
    "#@title Entrenamiento del tagger por bigramas\n"
   ]
  },
  {
   "cell_type": "code",
   "execution_count": null,
   "metadata": {
    "colab": {
     "base_uri": "https://localhost:8080/",
     "height": 115
    },
    "id": "nLCTRHeHfiY3",
    "outputId": "bfc54ac9-6a05-4a2b-d541-72382d29bd94"
   },
   "outputs": [],
   "source": []
  },
  {
   "cell_type": "markdown",
   "metadata": {
    "id": "m50bRKLlikbx"
   },
   "source": [
    "# Etiquetado mejorado con Stanza (StanfordNLP)\n",
    "\n",
    "**¿Que es Stanza?**\n",
    "\n",
    "* El grupo de investigacion en NLP de Stanford tenía una suite de librerias que ejecutaban varias tareas de NLP, esta suite se unifico en un solo servicio que llamaron **CoreNLP** con base en codigo java: https://stanfordnlp.github.io/CoreNLP/index.html\n",
    "\n",
    "* Para python existe **StanfordNLP**: https://stanfordnlp.github.io/stanfordnlp/index.html\n",
    "\n",
    "* Sin embargo, **StanfordNLP** ha sido deprecado y las nuevas versiones de la suite de NLP reciben mantenimiento bajo el nombre de **Stanza**: https://stanfordnlp.github.io/stanza/"
   ]
  },
  {
   "cell_type": "code",
   "execution_count": null,
   "metadata": {
    "colab": {
     "base_uri": "https://localhost:8080/",
     "height": 296
    },
    "id": "WY_YTM6TirMd",
    "outputId": "241e0bb1-e160-436a-904f-7bedc7ae01e4"
   },
   "outputs": [],
   "source": []
  },
  {
   "cell_type": "code",
   "execution_count": null,
   "metadata": {
    "colab": {
     "base_uri": "https://localhost:8080/",
     "height": 82
    },
    "id": "HG-Sdn6QmHgR",
    "outputId": "dcd469a4-37f0-4230-f24b-4335aea9a118"
   },
   "outputs": [],
   "source": [
    "# esta parte puede demorar un poco ....\n"
   ]
  },
  {
   "cell_type": "code",
   "execution_count": null,
   "metadata": {
    "colab": {
     "base_uri": "https://localhost:8080/",
     "height": 214
    },
    "id": "B2sKNXawmWH7",
    "outputId": "b1cfbeea-b82c-4100-fa0c-97a9203ffbc0"
   },
   "outputs": [],
   "source": []
  },
  {
   "cell_type": "code",
   "execution_count": null,
   "metadata": {
    "colab": {
     "base_uri": "https://localhost:8080/",
     "height": 115
    },
    "id": "86rL3IJRm1oI",
    "outputId": "d6a637a1-1f83-4cbc-b854-1be92012ddfb"
   },
   "outputs": [],
   "source": []
  },
  {
   "cell_type": "markdown",
   "metadata": {
    "id": "UsZF93NQodxX"
   },
   "source": [
    "# Referencias adicionales:\n",
    "\n",
    "* Etiquetado POS con Stanza https://stanfordnlp.github.io/stanza/pos.html#accessing-pos-and-morphological-feature-for-word\n",
    "\n",
    "* Stanza | Github: https://github.com/stanfordnlp/stanza\n",
    "\n",
    "* Articulo en ArXiv: https://arxiv.org/pdf/2003.07082.pdf"
   ]
  },
  {
   "cell_type": "code",
   "execution_count": null,
   "metadata": {
    "id": "a2gkMtDvyK_F"
   },
   "outputs": [],
   "source": []
  }
 ],
 "metadata": {
  "colab": {
   "name": "[Lectura_2/3]Etiquetado_Rapido_Python.ipynb",
   "provenance": []
  },
  "kernelspec": {
   "display_name": "Python 3",
   "language": "python",
   "name": "python3"
  },
  "language_info": {
   "codemirror_mode": {
    "name": "ipython",
    "version": 3
   },
   "file_extension": ".py",
   "mimetype": "text/x-python",
   "name": "python",
   "nbconvert_exporter": "python",
   "pygments_lexer": "ipython3",
   "version": "3.7.2"
  }
 },
 "nbformat": 4,
 "nbformat_minor": 1
}