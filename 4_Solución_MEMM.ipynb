{
 "cells": [
  {
   "cell_type": "markdown",
   "metadata": {
    "id": "JCL0r4ap2H4T"
   },
   "source": [
    "## Construcción de un modelo markoviano de máxima entropía\n"
   ]
  },
  {
   "cell_type": "code",
   "execution_count": null,
   "metadata": {
    "id": "7FaYXYmy5ahC"
   },
   "outputs": [],
   "source": [
    "!pip install conllu\n",
    "!pip install stanza\n",
    "!git clone https://github.com/UniversalDependencies/UD_Spanish-AnCora.git"
   ]
  },
  {
   "cell_type": "markdown",
   "metadata": {
    "id": "4Oi9R1bn2Qmg"
   },
   "source": [
    "### Entrenamiento del modelo - cálculo de conteos\n",
    "\n",
    "Parta este modelo consideramos el cálculo de las probabilidades: \n",
    "\n",
    "$$P(t_i | w_i, t_{i-1}) =\\frac{C(w_i, t_i, t_{i-1})}{C(w_i, t_{i-1})} $$\n",
    "\n",
    "* `uniqueFeatureDict` $C(tag|word,prevtag) = C(w_i, t_i, t_{i-1})$\n",
    "* `contextDict` $C(word,prevtag) = C(w_i, t_{i-1})$\n",
    "\n",
    "En este caso cuando consideremos el primer elemento de una frase $w_0$, no existirá un elemento anterior $w_{-1}$ y por lo tanto, tampoco una etiqueta previa $t_{-1}$, podemos modelar este problema asumiendo que existe una etiqueta \"None\", para estos casos: \n",
    "\n",
    "$$P(t_0|w_0,t_{-1}) = P(t_0|w_0,\\text{\"None\"})$$"
   ]
  },
  {
   "cell_type": "code",
   "execution_count": null,
   "metadata": {
    "id": "0riVspXk1nHl"
   },
   "outputs": [],
   "source": []
  },
  {
   "cell_type": "markdown",
   "metadata": {
    "id": "6npPBeu_8OzK"
   },
   "source": [
    "### Entrenamiento del modelo - cálculo de probabilidades\n",
    "\n",
    "$$P(t_i|w_i, t_{i-1}) = \\frac{C(t_i, w_i, t_{i-1})}{C(w_i, t_{i-1})}$$"
   ]
  },
  {
   "cell_type": "code",
   "execution_count": null,
   "metadata": {
    "id": "ywGEbMTw73NU"
   },
   "outputs": [],
   "source": []
  },
  {
   "cell_type": "code",
   "execution_count": 1,
   "metadata": {
    "id": "eA9wqVQPBiVN"
   },
   "outputs": [],
   "source": [
    "# Aquí verificamos que todas las probabilidades \n",
    "# por cada contexto 'word,prevtag' suman 1.0\n"
   ]
  },
  {
   "cell_type": "markdown",
   "metadata": {
    "id": "leSuajlOA-3c"
   },
   "source": [
    "### Distribución inicial de estados latentes"
   ]
  },
  {
   "cell_type": "code",
   "execution_count": 2,
   "metadata": {
    "colab": {
     "base_uri": "https://localhost:8080/",
     "height": 306
    },
    "id": "nU4ShPmDQRp0",
    "outputId": "36c33c52-c49a-482b-e7b4-240e25bbf92f"
   },
   "outputs": [],
   "source": [
    "# identificamos las categorias gramaticales 'upos' unicas en el corpus\n"
   ]
  },
  {
   "cell_type": "code",
   "execution_count": 3,
   "metadata": {},
   "outputs": [],
   "source": [
    "# enumeramos las categorias con numeros para asignar a \n",
    "# las columnas de la matriz de Viterbi\n"
   ]
  },
  {
   "cell_type": "code",
   "execution_count": null,
   "metadata": {
    "colab": {
     "base_uri": "https://localhost:8080/",
     "height": 306
    },
    "id": "oACerPVe_Awz",
    "outputId": "ee5372eb-1f00-4b05-81b1-68fabcaa28d8",
    "pycharm": {
     "name": "#%%\n"
    }
   },
   "outputs": [],
   "source": []
  },
  {
   "cell_type": "markdown",
   "metadata": {
    "id": "neEbST9IDq8f",
    "pycharm": {
     "name": "#%% md\n"
    }
   },
   "source": [
    "### Construcción del algoritmo de Viterbi\n",
    "\n",
    "Dada una secuencia de palabras $\\{p_1, p_2, \\dots, p_n \\}$, y un conjunto de categorias gramaticales dadas por la convención `upos`, se considera la matriz de probabilidades de Viterbi así:\n",
    "\n",
    "$$\n",
    "\\begin{array}{c c}\n",
    "\\begin{array}{c c c c}\n",
    "\\text{ADJ} \\\\\n",
    "\\text{ADV}\\\\\n",
    "\\text{PRON} \\\\\n",
    "\\vdots \\\\\n",
    "{}\n",
    "\\end{array} \n",
    "&\n",
    "\\left[\n",
    "\\begin{array}{c c c c}\n",
    "\\nu_1(\\text{ADJ}) & \\nu_2(\\text{ADJ}) & \\dots  & \\nu_n(\\text{ADJ})\\\\\n",
    "\\nu_1(\\text{ADV}) & \\nu_2(\\text{ADV}) & \\dots  & \\nu_n(\\text{ADV})\\\\ \n",
    "\\nu_1(\\text{PRON}) & \\nu_2(\\text{PRON}) & \\dots  & \\nu_n(\\text{PRON})\\\\\n",
    "\\vdots & \\vdots & \\dots & \\vdots \\\\ \\hdashline\n",
    "p_1 & p_2 & \\dots & p_n \n",
    "\\end{array}\n",
    "\\right] \n",
    "\\end{array}\n",
    "$$\n",
    "\n",
    "Donde las probabilidades de Viterbi en la primera columna (para una categoria $i$) están dadas por: \n",
    "\n",
    "$$\n",
    "\\nu_1(i) = \\underbrace{\\rho_i^{(0)}}_{\\text{probabilidad inicial}} \\times P(i \\vert p_1, \\text{\"None\"})\n",
    "$$\n",
    "\n",
    "y para las siguientes columnas: \n",
    "\n",
    "$$\n",
    "\\nu_{t}(j) = \\max_i \\{ \\overbrace{\\nu_{t-1}(i)}^{\\text{estado anterior}} \\times P(j \\vert p_t, i) \\}\n",
    "$$\n"
   ]
  },
  {
   "cell_type": "code",
   "execution_count": null,
   "metadata": {
    "colab": {
     "base_uri": "https://localhost:8080/",
     "height": 105
    },
    "id": "o7fDedW5BE-q",
    "outputId": "524b045a-f059-49b3-ee39-c416c4bf03a6"
   },
   "outputs": [],
   "source": []
  },
  {
   "cell_type": "code",
   "execution_count": null,
   "metadata": {
    "colab": {
     "base_uri": "https://localhost:8080/",
     "height": 306
    },
    "id": "X8yBXTq-PHGY",
    "outputId": "a20e1dff-14a4-463c-b2a0-db03c9fbcab6"
   },
   "outputs": [],
   "source": []
  },
  {
   "cell_type": "code",
   "execution_count": null,
   "metadata": {
    "colab": {
     "base_uri": "https://localhost:8080/",
     "height": 34
    },
    "id": "XKC3bh60X3h3",
    "outputId": "cb65ae08-fdd4-4103-9572-6f77256bf247"
   },
   "outputs": [],
   "source": []
  },
  {
   "cell_type": "code",
   "execution_count": null,
   "outputs": [],
   "source": [],
   "metadata": {
    "collapsed": false,
    "pycharm": {
     "name": "#%%\n"
    }
   }
  },
  {
   "cell_type": "code",
   "execution_count": null,
   "metadata": {
    "colab": {
     "base_uri": "https://localhost:8080/",
     "height": 102
    },
    "id": "4OjxWFgVZYKF",
    "outputId": "982899cc-8654-4a69-daff-7c0c1b2eb3d2"
   },
   "outputs": [],
   "source": [
    "## ¿ Siguientes Pasos ? \n",
    "\n",
    "El modelo construido, aunque es la base de un MEMM, no explota todo el potencial del concepto  que estos modelos representan, en nuestro caso sencillo consideramos solo un **feature** para predecir la categoría gramatical: $<w_i, t_{i-1}>$. Es decir, las probabilidades de una cierta etiqueta $t_i$ dada una observación $<w_i, t_{i-1}>$ se calculan contando eventos donde se observe que $<w_i, t_{i-1}>$ sucede simultáneamente con $t_i$. \n",
    "\n",
    "La generalización de esto (donde puedo considerar multiples observaciones o **features**, y a partir de estos inferir la categoría gramatical) se hace construyendo las llamadas **feature-functions**, donde estas funciones toman valores de 0 o 1, cuando se cumplan las condiciones de la observación o feature en cuestion. En general podemos considerar una **feature-function** como : \n",
    "\n",
    "$$f_a(t, o) = f_a(\\text{tag}, \\text{observation}) = \n",
    "\\begin{cases}\n",
    "  1 , & \\text{se cumple condición } a \\\\\n",
    "  0, & \\text{en caso contrario}\n",
    "\\end{cases}\n",
    "$$\n",
    "\n",
    "donde la condición $a$ es una relacion entre los valores que tome $\\text{tag}$ y $\\text{context}$, por ejemplo:\n",
    "\n",
    "$$f_a(t, o) = f_a(\\text{tag}, \\text{observation}) = \n",
    "\\begin{cases}\n",
    "  1 , & (t_i, t_{i-1}) = \\text{('VERB', 'ADJ')} \\\\\n",
    "  0, & \\text{en caso contrario}\n",
    "\\end{cases}\n",
    "$$\n",
    "\n",
    "Al considerar varias funciones, y por lo tanto varios features observables, consideramos una combinacion lineal de estos por medio de un coeficiente que multiplique a cada función: \n",
    "\n",
    "$$\n",
    "\\theta_1 f_1(t, o) + \\theta_2 f_2(t, o) + \\dots\n",
    "$$\n",
    "\n",
    "donde los coeficientes indicarán cuales features son más relevantes y por lo tanto pesan más para la decisión del resultado del modelo. De esta manera los coeficientes $\\theta_j$ se vuelven parámetros del modelo que deben ser optimizados (esto puede realizarse con cualquier técnica de optimizacion como el Gradiente Descendente). Ahora, las probabilidades que pueden obtener usando un softmax sobre estas combinaciones lineales de features: \n",
    "\n",
    "$$\n",
    "P = \\prod_i \\frac{\\exp{\\left(\\sum_j \\theta_j f_j(t_i, o)\\right)}}{\\sum_{t'}\\exp{\\left(\\sum_j \\theta_j f_j(t', o)\\right)}}\n",
    "$$\n",
    "\n",
    "Así, lo que buscamos con el algoritmo de optimización es encontrar los parámetros $\\theta_j$ que maximizan la probabilidad anterior. En NLTK encontramos la implementación completa de un clasificador de máxima entropia que no esta restringido a relaciones markovianas: https://www.nltk.org/_modules/nltk/classify/maxent.html\n",
    "\n",
    "Un segmento resumido de la clase en python que implementa este clasificador en NLTK lo encuentras así: \n",
    "\n",
    "```\n",
    "class MaxentClassifier(ClassifierI):\n",
    "\n",
    "    def __init__(self, encoding, weights, logarithmic=True):\n",
    "        self._encoding = encoding\n",
    "        self._weights = weights\n",
    "        self._logarithmic = logarithmic\n",
    "        assert encoding.length() == len(weights)\n",
    "\n",
    "    def labels(self):\n",
    "        return self._encoding.labels()\n",
    "\n",
    "    def set_weights(self, new_weights):\n",
    "        self._weights = new_weights\n",
    "        assert self._encoding.length() == len(new_weights)\n",
    "\n",
    "\n",
    "    def weights(self):\n",
    "        return self._weights\n",
    "\n",
    "    def classify(self, featureset):\n",
    "        return self.prob_classify(featureset).max()\n",
    "\n",
    "    def prob_classify(self, featureset):\n",
    "        ### ...\n",
    "\n",
    "        # Normalize the dictionary to give a probability distribution\n",
    "        return DictionaryProbDist(prob_dict, log=self._logarithmic, normalize=True)\n",
    "\n",
    "    @classmethod\n",
    "    def train(\n",
    "        cls,\n",
    "        train_toks,\n",
    "        algorithm=None,\n",
    "        trace=3,\n",
    "        encoding=None,\n",
    "        labels=None,\n",
    "        gaussian_prior_sigma=0,\n",
    "        **cutoffs\n",
    "    ):\n",
    "     ### ......\n",
    "```\n",
    "\n",
    "Donde te das cuenta de la forma que tienen las clases en NLTK que implementan clasificadores generales. Aquí vemos que la clase `MaxentClassifier` es una subclase de una más general `ClassifierI` la cual representa el proceso de clasificación general de categoría única (es decir, que a cada data-point le corresponda solo una categoria), también que esta clase depende de definir un `encoding`\n",
    " y unos pesos `weights` : \n",
    "\n",
    "```\n",
    "class MaxentClassifier(ClassifierI):\n",
    "\n",
    "    def __init__(self, encoding, weights, logarithmic=True):\n",
    "```\n",
    "\n",
    "los pesos corresponden a los parámetros $\\theta_i$. Y el encoding es el que corresponde a las funciones $f_a(t, o)$ que dan como resultado valores binarios $1$ o $0$.\n",
    "\n",
    "La documentación de NLTK te puede dar mas detalles de esta implementación: https://www.nltk.org/api/nltk.classify.html\n",
    "\n",
    "Finalmente, un ejemplo completo de uso y mejora de un modelo de máxima entropía, lo puedes encontrar en este fork que guarde especialmente para el curso, para que lo tengas de referencia y puedas jugar y aprender con él: \n",
    "\n",
    "https://github.com/pachocamacho1990/nltk-maxent-pos-tagger\n",
    "\n",
    "El cual fue desarrollado originalmente por Arne Neumann (https://github.com/arne-cl) basado en los fueatures propuestos por Ratnaparki en 1996 para la tarea de etiquetado por categorias gramaticales.\n"
   ]
  },
  {
   "cell_type": "markdown",
   "metadata": {
    "id": "ozD_EqlbaMRB"
   },
   "source": [
    "## ¿ Siguientes Pasos ? \n",
    "\n",
    "El modelo construido, aunque es la base de un MEMM, no explota todo el potencial del concepto  que estos modelos representan, en nuestro caso sencillo consideramos solo un **feature** para predecir la categoría gramatical: $<w_i, t_{i-1}>$. Es decir, las probabilidades de una cierta etiqueta $t_i$ dada una observación $<w_i, t_{i-1}>$ se calculan contando eventos donde se observe que $<w_i, t_{i-1}>$ sucede simultáneamente con $t_i$. \n",
    "\n",
    "La generalización de esto (donde puedo considerar multiples observaciones o **features**, y a partir de estos inferir la categoría gramatical) se hace construyendo las llamadas **feature-functions**, donde estas funciones toman valores de 0 o 1, cuando se cumplan las condiciones de la observación o feature en cuestion. En general podemos considerar una **feature-function** como : \n",
    "\n",
    "$$f_a(t, o) = f_a(\\text{tag}, \\text{observation}) = \n",
    "\\begin{cases}\n",
    "  1 , & \\text{se cumple condición } a \\\\\n",
    "  0, & \\text{en caso contrario}\n",
    "\\end{cases}\n",
    "$$\n",
    "\n",
    "donde la condición $a$ es una relacion entre los valores que tome $\\text{tag}$ y $\\text{context}$, por ejemplo:\n",
    "\n",
    "$$f_a(t, o) = f_a(\\text{tag}, \\text{observation}) = \n",
    "\\begin{cases}\n",
    "  1 , & (t_i, t_{i-1}) = \\text{('VERB', 'ADJ')} \\\\\n",
    "  0, & \\text{en caso contrario}\n",
    "\\end{cases}\n",
    "$$\n",
    "\n",
    "Al considerar varias funciones, y por lo tanto varios features observables, consideramos una combinacion lineal de estos por medio de un coeficiente que multiplique a cada función: \n",
    "\n",
    "$$\n",
    "\\theta_1 f_1(t, o) + \\theta_2 f_2(t, o) + \\dots\n",
    "$$\n",
    "\n",
    "donde los coeficientes indicarán cuales features son más relevantes y por lo tanto pesan más para la decisión del resultado del modelo. De esta manera los coeficientes $\\theta_j$ se vuelven parámetros del modelo que deben ser optimizados (esto puede realizarse con cualquier técnica de optimizacion como el Gradiente Descendente). Ahora, las probabilidades que pueden obtener usando un softmax sobre estas combinaciones lineales de features: \n",
    "\n",
    "$$\n",
    "P = \\prod_i \\frac{\\exp{\\left(\\sum_j \\theta_j f_j(t_i, o)\\right)}}{\\sum_{t'}\\exp{\\left(\\sum_j \\theta_j f_j(t', o)\\right)}}\n",
    "$$\n",
    "\n",
    "Así, lo que buscamos con el algoritmo de optimización es encontrar los parámetros $\\theta_j$ que maximizan la probabilidad anterior. En NLTK encontramos la implementación completa de un clasificador de máxima entropia que no esta restringido a relaciones markovianas: https://www.nltk.org/_modules/nltk/classify/maxent.html\n",
    "\n",
    "Un segmento resumido de la clase en python que implementa este clasificador en NLTK lo encuentras así: \n",
    "\n",
    "```\n",
    "class MaxentClassifier(ClassifierI):\n",
    "\n",
    "    def __init__(self, encoding, weights, logarithmic=True):\n",
    "        self._encoding = encoding\n",
    "        self._weights = weights\n",
    "        self._logarithmic = logarithmic\n",
    "        assert encoding.length() == len(weights)\n",
    "\n",
    "    def labels(self):\n",
    "        return self._encoding.labels()\n",
    "\n",
    "    def set_weights(self, new_weights):\n",
    "        self._weights = new_weights\n",
    "        assert self._encoding.length() == len(new_weights)\n",
    "\n",
    "\n",
    "    def weights(self):\n",
    "        return self._weights\n",
    "\n",
    "    def classify(self, featureset):\n",
    "        return self.prob_classify(featureset).max()\n",
    "\n",
    "    def prob_classify(self, featureset):\n",
    "        ### ...\n",
    "\n",
    "        # Normalize the dictionary to give a probability distribution\n",
    "        return DictionaryProbDist(prob_dict, log=self._logarithmic, normalize=True)\n",
    "\n",
    "    @classmethod\n",
    "    def train(\n",
    "        cls,\n",
    "        train_toks,\n",
    "        algorithm=None,\n",
    "        trace=3,\n",
    "        encoding=None,\n",
    "        labels=None,\n",
    "        gaussian_prior_sigma=0,\n",
    "        **cutoffs\n",
    "    ):\n",
    "     ### ......\n",
    "```\n",
    "\n",
    "Donde te das cuenta de la forma que tienen las clases en NLTK que implementan clasificadores generales. Aquí vemos que la clase `MaxentClassifier` es una subclase de una más general `ClassifierI` la cual representa el proceso de clasificación general de categoría única (es decir, que a cada data-point le corresponda solo una categoria), también que esta clase depende de definir un `encoding`\n",
    " y unos pesos `weights` : \n",
    "\n",
    "```\n",
    "class MaxentClassifier(ClassifierI):\n",
    "\n",
    "    def __init__(self, encoding, weights, logarithmic=True):\n",
    "```\n",
    "\n",
    "los pesos corresponden a los parámetros $\\theta_i$. Y el encoding es el que corresponde a las funciones $f_a(t, o)$ que dan como resultado valores binarios $1$ o $0$.\n",
    "\n",
    "La documentación de NLTK te puede dar mas detalles de esta implementación: https://www.nltk.org/api/nltk.classify.html\n",
    "\n",
    "Finalmente, un ejemplo completo de uso y mejora de un modelo de máxima entropía, lo puedes encontrar en este fork que guarde especialmente para el curso, para que lo tengas de referencia y puedas jugar y aprender con él: \n",
    "\n",
    "https://github.com/pachocamacho1990/nltk-maxent-pos-tagger\n",
    "\n",
    "El cual fue desarrollado originalmente por Arne Neumann (https://github.com/arne-cl) basado en los fueatures propuestos por Ratnaparki en 1996 para la tarea de etiquetado por categorias gramaticales.\n"
   ]
  },
  {
   "cell_type": "code",
   "execution_count": null,
   "metadata": {
    "id": "mU5SDxi3F819"
   },
   "outputs": [],
   "source": []
  }
 ],
 "metadata": {
  "colab": {
   "collapsed_sections": [],
   "name": "[Lectura_16]Solución_Reto.ipynb",
   "provenance": []
  },
  "kernelspec": {
   "display_name": "Python 3",
   "language": "python",
   "name": "python3"
  },
  "language_info": {
   "codemirror_mode": {
    "name": "ipython",
    "version": 3
   },
   "file_extension": ".py",
   "mimetype": "text/x-python",
   "name": "python",
   "nbconvert_exporter": "python",
   "pygments_lexer": "ipython3",
   "version": "3.7.2"
  }
 },
 "nbformat": 4,
 "nbformat_minor": 1
}